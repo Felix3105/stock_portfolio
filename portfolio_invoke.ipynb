{
 "cells": [
  {
   "cell_type": "code",
   "execution_count": 6,
   "metadata": {},
   "outputs": [],
   "source": [
    "import boto3\n",
    "import json\n",
    "import pandas as pd\n",
    "import awswrangler as wr\n",
    "from pypfopt.expected_returns import ema_historical_return\n",
    "from pypfopt import EfficientFrontier, EfficientCVaR\n",
    "from pypfopt.discrete_allocation import DiscreteAllocation, get_latest_prices\n",
    "from botocore.client import ClientError\n",
    "\n",
    "dynamo_tb = 'PortfolioSubscribers'\n",
    "my_session = boto3.Session(region_name=\"us-east-1\")\n",
    "lambda_client = boto3.client('lambda',region_name=\"us-east-1\")\n",
    "ses_client = boto3.client('sesv2',region_name=\"us-east-1\")"
   ]
  },
  {
   "cell_type": "code",
   "execution_count": 41,
   "metadata": {},
   "outputs": [],
   "source": [
    "# Portfolio information\n",
    "symbol = str(input('Enter stocks in your portfolio: '))\n",
    "method = str(input('Enter portfolio optimization method: '))\n",
    "total_portfolio_value = float(input('Enter your budget: '))\n",
    "additional_param = 0"
   ]
  },
  {
   "cell_type": "code",
   "execution_count": null,
   "metadata": {},
   "outputs": [],
   "source": [
    "# aapl,abnb,acva,asle,dcom,dmlp,nuva,verv,tsla"
   ]
  },
  {
   "cell_type": "code",
   "execution_count": 42,
   "metadata": {},
   "outputs": [
    {
     "name": "stdout",
     "output_type": "stream",
     "text": [
      "From 2015-12-02 00:00:00 to 2022-10-31 00:00:00\n",
      "Weight of portfolio: {'dmlp': 0.52489, 'nuva': 0.42431, 'verv': 0.02038, 'tsla': 0.03042}\n",
      "Expected return: 19.824% \n",
      "CVaR: 4.222%\n",
      "Number of shares for each stock: {'dmlp': 368, 'nuva': 192, 'tsla': 2, 'verv': 11}\n",
      "Leftover: 169.36\n"
     ]
    }
   ],
   "source": [
    "#     min_volatility() :optimizes for minimum volatility\n",
    "#     max_sharpe() :optimizes for maximal Sharpe ratio (a.k.a the tangency portfolio)\n",
    "#     max_quadratic_utility() :maximises the quadratic utility, given some risk aversion.\n",
    "#     efficient_risk() :maximises return for a given target risk\n",
    "#     efficient_return() :minimises risk for a given target return\n",
    "#     min_cvar() :minimises the CVaR (minimizing the CVaR more generally requires computing the quantile from a distribution that best fits the data.)\n",
    "\n",
    "# Porfolio allocation\n",
    "if hasattr(EfficientFrontier, method):\n",
    "    if method == 'efficient_risk':\n",
    "        additional_param  = float(input('Enter the desired maximum volatility of the resulting portfolio: '))\n",
    "    elif method == 'efficient_return':\n",
    "        additional_param = float(input('Enter the desired return of the resulting portfolio: '))\n",
    "        \n",
    "payload = {\n",
    "    \"symbol\":symbol,\n",
    "    \"method\":method,\n",
    "    \"additional_param\":additional_param,\n",
    "    \"total_portfolio_value\":total_portfolio_value\n",
    "}\n",
    "\n",
    "response = lambda_client.invoke(\n",
    "    FunctionName='PortfolioExplore', \n",
    "    InvocationType='RequestResponse',\n",
    "    Payload=json.dumps(payload)\n",
    ")\n",
    "\n",
    "result = json.loads(response['Payload'].read())\n",
    "\n",
    "print(f\"{result[4]}\")\n",
    "print (f\"Weight of portfolio: {result[0]}\")\n",
    "if method !='min_cvar':\n",
    "    print (f\"Expected return: {round(result[1][0]*100,3)}% \\nVolatility: {round(result[1][1]*100,3)}% \\nSharpe ratio: {round(result[1][2]*100,3)}%\")\n",
    "else:\n",
    "    print (f\"Expected return: {round(result[1][0]*100,3)}% \\nCVaR: {round(result[1][1]*100,3)}%\")\n",
    "print (f\"Number of shares for each stock: {result[2]}\")\n",
    "print (f\"Leftover: {round(result[3],3)}\")\n"
   ]
  },
  {
   "cell_type": "code",
   "execution_count": null,
   "metadata": {},
   "outputs": [],
   "source": [
    "# Subscription information\n",
    "user_name = str(input('Enter your name: '))\n",
    "mail_address = str(input('Enter your mail address: '))\n",
    "phone_num = int(input('Enter your phone number: '))\n",
    "portfolio_name = int(input('Enter your portfolio name: '))\n",
    "portfolio_weight = list(result[0].values())\n",
    "portfolio_weight = [str(i) for i in portfolio_weight]"
   ]
  },
  {
   "cell_type": "code",
   "execution_count": 44,
   "metadata": {},
   "outputs": [],
   "source": [
    "# Subscripe to risk_analysis topic or modify porfolio\n",
    "try:\n",
    "    wr.dynamodb.put_items(\n",
    "    items=[{\n",
    "        'user_name': user_name, \n",
    "        'portfolio':portfolio_name,\n",
    "        'portfolio_weight':portfolio_weight,\n",
    "        'mail_address':mail_address,\n",
    "        'phone_num':phone_num,\n",
    "        'symbol':symbol,\n",
    "        'method':method,\n",
    "        'total_portfolio_value':int(total_portfolio_value),\n",
    "        'additional_param':additional_param\n",
    "    }],\n",
    "    table_name=dynamo_tb,\n",
    "    boto3_session = my_session\n",
    "    )\n",
    "except ClientError as e:\n",
    "    print (e)\n",
    "\n",
    "# Check if Email identity already exist\n",
    "try:\n",
    "    ses_response = ses_client.create_email_identity(\n",
    "        EmailIdentity=mail_address,\n",
    "    )\n",
    "except ClientError as e:\n",
    "    print (e)\n",
    "    \n"
   ]
  },
  {
   "cell_type": "code",
   "execution_count": null,
   "metadata": {},
   "outputs": [],
   "source": [
    "# Unsubscripe to risk_analysis topic\n",
    "try:\n",
    "    wr.dynamodb.delete_items(\n",
    "    items=[{\n",
    "        'user_name': user_name, \n",
    "        'portfolio':portfolio_name\n",
    "    }],\n",
    "    table_name=dynamo_tb,\n",
    "    boto3_session = my_session\n",
    "    )\n",
    "except ClientError as e:\n",
    "    print (e)"
   ]
  }
 ],
 "metadata": {
  "kernelspec": {
   "display_name": "Python 3.8.10 64-bit",
   "language": "python",
   "name": "python3"
  },
  "language_info": {
   "codemirror_mode": {
    "name": "ipython",
    "version": 3
   },
   "file_extension": ".py",
   "mimetype": "text/x-python",
   "name": "python",
   "nbconvert_exporter": "python",
   "pygments_lexer": "ipython3",
   "version": "3.8.10"
  },
  "orig_nbformat": 4,
  "vscode": {
   "interpreter": {
    "hash": "916dbcbb3f70747c44a77c7bcd40155683ae19c65e1c03b4aa3499c5328201f1"
   }
  }
 },
 "nbformat": 4,
 "nbformat_minor": 2
}
